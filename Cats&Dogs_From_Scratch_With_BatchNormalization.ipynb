{
  "nbformat": 4,
  "nbformat_minor": 0,
  "metadata": {
    "colab": {
      "provenance": [],
      "collapsed_sections": [],
      "include_colab_link": true
    },
    "kernelspec": {
      "name": "python3",
      "display_name": "Python 3"
    },
    "language_info": {
      "name": "python"
    },
    "accelerator": "GPU"
  },
  "cells": [
    {
      "cell_type": "markdown",
      "metadata": {
        "id": "view-in-github",
        "colab_type": "text"
      },
      "source": [
        "<a href=\"https://colab.research.google.com/github/EliwaaH/Deep-Learning-Projects/blob/main/Cats%26Dogs_From_Scratch_With_BatchNormalization.ipynb\" target=\"_parent\"><img src=\"https://colab.research.google.com/assets/colab-badge.svg\" alt=\"Open In Colab\"/></a>"
      ]
    },
    {
      "cell_type": "markdown",
      "source": [
        "Here, we will use Kaggel cats and dogs dataset and we will build a classifier using Tensorflow and Keras from scratch.\n",
        "\n",
        "This is the first part of three parts project which contains\n",
        "\n",
        "\n",
        "*   **Cats & Dogs classifier from scratch (This notebook)**\n",
        "*   Cats & Dogs classifier using Feature Extraction method \n",
        "\n",
        "*   Cats & Dogs classifier using Fine Tuning method\n",
        "\n",
        "\n",
        "\n",
        "\n",
        "\n"
      ],
      "metadata": {
        "id": "tt9WUGCkuRhN"
      }
    },
    {
      "cell_type": "code",
      "source": [
        "import numpy as np\n",
        "import os\n",
        "import random\n",
        "import zipfile \n",
        "import shutil\n",
        "import tensorflow as tf \n",
        "from tensorflow.keras.optimizers import Adam, RMSprop\n",
        "from tensorflow.keras.layers import Conv2D, MaxPooling2D, Flatten, Dense, Dropout, Input, BatchNormalization\n",
        "from tensorflow.keras.models import Model\n",
        "from tensorflow.keras.preprocessing.image import ImageDataGenerator\n",
        "from tensorflow.keras.preprocessing import image\n",
        "from shutil import copyfile\n",
        "import matplotlib.pyplot as plt"
      ],
      "metadata": {
        "id": "Hm53udBKvJad"
      },
      "execution_count": null,
      "outputs": []
    },
    {
      "cell_type": "code",
      "source": [
        "!wget --no-check-certificate \\\n",
        "    \"https://download.microsoft.com/download/3/E/1/3E1C3F21-ECDB-4869-8368-6DEBA77B919F/kagglecatsanddogs_5340.zip\" \\\n",
        "    -O \"/content/catsVdogs.zip\""
      ],
      "metadata": {
        "colab": {
          "base_uri": "https://localhost:8080/"
        },
        "id": "6iOfquoF2U52",
        "outputId": "fb444c8c-3e3b-4688-954f-7d2124dd7a4e"
      },
      "execution_count": null,
      "outputs": [
        {
          "output_type": "stream",
          "name": "stdout",
          "text": [
            "--2022-09-24 00:02:03--  https://download.microsoft.com/download/3/E/1/3E1C3F21-ECDB-4869-8368-6DEBA77B919F/kagglecatsanddogs_5340.zip\n",
            "Resolving download.microsoft.com (download.microsoft.com)... 104.65.228.252, 2600:1413:a000:682::317f, 2600:1413:a000:6bb::317f\n",
            "Connecting to download.microsoft.com (download.microsoft.com)|104.65.228.252|:443... connected.\n",
            "HTTP request sent, awaiting response... 200 OK\n",
            "Length: 824887076 (787M) [application/octet-stream]\n",
            "Saving to: ‘/content/catsVdogs.zip’\n",
            "\n",
            "/content/catsVdogs. 100%[===================>] 786.67M   272MB/s    in 2.9s    \n",
            "\n",
            "2022-09-24 00:02:05 (272 MB/s) - ‘/content/catsVdogs.zip’ saved [824887076/824887076]\n",
            "\n"
          ]
        }
      ]
    },
    {
      "cell_type": "code",
      "source": [
        "# Here, we are zipping our downloaded dataset and extract it in our working directory \n",
        "\n",
        "local_zip = \"/content/catsVdogs.zip\"\n",
        "zip_file = zipfile.ZipFile(local_zip, 'r')\n",
        "current_dir = os.getcwd()\n",
        "zip_file.extractall(current_dir)\n",
        "zip_file.close()"
      ],
      "metadata": {
        "id": "hbFt7Lqz4SUt"
      },
      "execution_count": null,
      "outputs": []
    },
    {
      "cell_type": "code",
      "source": [
        "source_path = '/content/PetImages'\n",
        "\n",
        "source_path_cats = os.path.join(source_path, 'Cat')\n",
        "source_path_dogs = os.path.join(source_path, 'Dog')\n",
        "\n",
        "# Here, we are removing any file that doesn't has the file format jpg in our working files\n",
        "!find /content/PetImages/ -type f ! -name \"*.jpg\" -exec rm {} +\n",
        "\n",
        "print(f'Found {len(os.listdir(source_path_cats))} images of cats')\n",
        "print(f'Found {len(os.listdir(source_path_dogs))} images of dogs')"
      ],
      "metadata": {
        "colab": {
          "base_uri": "https://localhost:8080/"
        },
        "id": "ssPSurS85JCf",
        "outputId": "2eddd9b7-64a1-4d5f-b1f7-31f8f1a2e491"
      },
      "execution_count": null,
      "outputs": [
        {
          "output_type": "stream",
          "name": "stdout",
          "text": [
            "Found 12500 images of cats\n",
            "Found 12500 images of dogs\n"
          ]
        }
      ]
    },
    {
      "cell_type": "markdown",
      "source": [
        "So, After downloading our data and clean it we have to prepare our training and validation directories to copy cats and dogs images in it"
      ],
      "metadata": {
        "id": "kwfxB0MR_5id"
      }
    },
    {
      "cell_type": "code",
      "source": [
        "# Training and Validation Directories Preparation\n",
        "\n",
        "def create_train_valid_dirs():\n",
        "  \n",
        "  cur_dir = os.getcwd()\n",
        "\n",
        "  \n",
        "  #Checking if the main directory is already exists or not, if exist so delete the whole directroy\n",
        "  if os.path.exists(os.path.join(f'{cur_dir}/catsVdogs')):\n",
        "    shutil.rmtree(os.path.join(f'{cur_dir}/catsVdogs'))\n",
        "\n",
        "  #creating the main directory\n",
        "  os.mkdir(os.path.join(cur_dir, 'catsVdogs'))\n",
        "\n",
        "\n",
        "  #creatin the training directory\n",
        "  os.mkdir(os.path.join(f'{cur_dir}/catsVdogs', 'training'))\n",
        "  os.mkdir(os.path.join(f'{cur_dir}/catsVdogs/training', 'cats'))\n",
        "  os.mkdir(os.path.join(f'{cur_dir}/catsVdogs/training', 'dogs'))\n",
        "  \n",
        "  #creating the validation directory\n",
        "  os.mkdir(os.path.join(f'{cur_dir}/catsVdogs', 'validation'))\n",
        "  os.mkdir(os.path.join(f'{cur_dir}/catsVdogs/validation', 'cats'))\n",
        "  os.mkdir(os.path.join(f'{cur_dir}/catsVdogs/validation', 'dogs'))\n",
        "\n",
        "  pass\n",
        "\n",
        "create_train_valid_dirs()"
      ],
      "metadata": {
        "id": "788PouIv-bLu"
      },
      "execution_count": null,
      "outputs": []
    },
    {
      "cell_type": "markdown",
      "source": [
        "The next step is splitting our data into validation and training samples, so we will create a function that will do some steps on data before splitting\n",
        "\n",
        "1.   Randomize our data by shuffling it by using (random.sample(list, len(list))\n",
        "2.   Check if there's any image that doesn't have a size(undefined image)\n",
        "\n",
        "1.   Splitting our data by a ratio that we will define\n",
        "\n",
        "\n",
        "\n"
      ],
      "metadata": {
        "id": "wZce52mwVy4C"
      }
    },
    {
      "cell_type": "code",
      "source": [
        "def split_data(source_dir, training_dir, validation_dir, split_size):\n",
        "  \n",
        "  shuffled_data = random.sample(list(os.listdir(source_dir)), len(os.listdir(source_dir)))\n",
        "  training_number = int(len(shuffled_data) * split_size)\n",
        "\n",
        "  i = 0\n",
        "  dir = training_dir\n",
        "\n",
        "  for im in shuffled_data:\n",
        "    image_source = os.path.join(source_dir, im)\n",
        "\n",
        "    if i == training_number:\n",
        "      dir = validation_dir\n",
        "    \n",
        "    i += 1\n",
        "\n",
        "    if os.path.getsize(image_source) == 0:\n",
        "      print(f'{im} is zero lentgh, so ignoring')\n",
        "\n",
        "    else:\n",
        "      copyfile(image_source, os.path.join(dir, im))\n",
        "\n",
        "\n",
        "  pass"
      ],
      "metadata": {
        "id": "rNJHhwQ7HY0b"
      },
      "execution_count": null,
      "outputs": []
    },
    {
      "cell_type": "markdown",
      "source": [
        "After creating our function we have to define our paths and check the number of images that will fly to our image generators which will be the input for our classifier."
      ],
      "metadata": {
        "id": "OxKC4mxNfRSs"
      }
    },
    {
      "cell_type": "code",
      "source": [
        "CAT_DIRECTORY = '/content/PetImages/Cat/'\n",
        "DOG_DIRECTORY = '/content/PetImages/Dog/'\n",
        "\n",
        "TRAINING_CAT_DIR = '/content/catsVdogs/training/cats/'\n",
        "TRAINING_DOG_DIR = '/content/catsVdogs/training/dogs/'\n",
        "VALIDATION_CAT_DIR = '/content/catsVdogs/validation/cats/'\n",
        "VALIDATION_DOG_DIR = '/content/catsVdogs/validation/dogs/'\n",
        "\n",
        "\n",
        "if len(os.listdir(TRAINING_CAT_DIR)) > 0:\n",
        "  for file in os.scandir(TRAINING_CAT_DIR):\n",
        "    os.remove(file.path)\n",
        "if len(os.listdir(TRAINING_DOG_DIR)) > 0:\n",
        "  for file in os.scandir(TRAINING_DOG_DIR):\n",
        "    os.remove(file.path)\n",
        "if len(os.listdir(VALIDATION_CAT_DIR)) > 0:\n",
        "  for file in os.scandir(VALIDATION_CAT_DIR):\n",
        "    os.remove(file.path)\n",
        "if len(os.listdir(VALIDATION_DOG_DIR)) > 0:\n",
        "  for file in os.scandir(VALIDATION_DOG_DIR):\n",
        "    os.remove(file.path)\n",
        "\n",
        "split_data(CAT_DIRECTORY, TRAINING_CAT_DIR, VALIDATION_CAT_DIR, 0.9)\n",
        "split_data(DOG_DIRECTORY, TRAINING_DOG_DIR, VALIDATION_DOG_DIR, 0.9)\n",
        "\n",
        "print(f\"\\n\\nThere are {len(os.listdir(TRAINING_CAT_DIR))} images of cats for training\")\n",
        "print(f\"There are {len(os.listdir(TRAINING_DOG_DIR))} images of dogs for training\")\n",
        "print(f\"There are {len(os.listdir(VALIDATION_CAT_DIR))} images of cats for testing\")\n",
        "print(f\"There are {len(os.listdir(VALIDATION_DOG_DIR))} images of dogs for testing\")\n"
      ],
      "metadata": {
        "colab": {
          "base_uri": "https://localhost:8080/"
        },
        "id": "WQ4yX5JDZhKc",
        "outputId": "1fc31fd6-0459-4aed-fb91-5de2d1310f70"
      },
      "execution_count": null,
      "outputs": [
        {
          "output_type": "stream",
          "name": "stdout",
          "text": [
            "666.jpg is zero lentgh, so ignoring\n",
            "11702.jpg is zero lentgh, so ignoring\n",
            "\n",
            "\n",
            "There are 11249 images of cats for training\n",
            "There are 11249 images of dogs for training\n",
            "There are 1250 images of cats for testing\n",
            "There are 1250 images of dogs for testing\n"
          ]
        }
      ]
    },
    {
      "cell_type": "markdown",
      "source": [
        "Now, we are in the last part of preparing our data which is making the genrators that will be the classifier input.\n",
        "\n",
        "Generators are very useful keras image API that can do a lot of operations to our data before going to the classifier like AUGMENTAION."
      ],
      "metadata": {
        "id": "1mUoLFo-kitb"
      }
    },
    {
      "cell_type": "code",
      "source": [
        "def create_image_generators(TRAINING_DIR, VALIDATION_DIR):\n",
        "\n",
        "  train_data = ImageDataGenerator(\n",
        "      rescale=1./255.,\n",
        "      rotation_range=40,\n",
        "      width_shift_range=0.2,\n",
        "      height_shift_range=0.2,\n",
        "      zoom_range=0.2,\n",
        "      shear_range=0.2,\n",
        "      horizontal_flip=True,\n",
        "      fill_mode='nearest'\n",
        "  )\n",
        "\n",
        "  train_generator=train_data.flow_from_directory(\n",
        "      directory = TRAINING_DIR,\n",
        "      batch_size = 128, \n",
        "      class_mode='binary',\n",
        "      target_size = (150, 150)\n",
        "  )\n",
        "\n",
        "\n",
        "  valid_data = ImageDataGenerator(rescale=1./255.)\n",
        "\n",
        "  validation_generator = valid_data.flow_from_directory(\n",
        "      directory = VALIDATION_DIR, \n",
        "      batch_size = 32, \n",
        "      class_mode='binary',\n",
        "      target_size = (150, 150)\n",
        "  )\n",
        "\n",
        "  return train_generator, validation_generator"
      ],
      "metadata": {
        "id": "Wi8MvYk2esNM"
      },
      "execution_count": null,
      "outputs": []
    },
    {
      "cell_type": "code",
      "source": [
        "TRAINING_DIR = '/content/catsVdogs/training/'\n",
        "VALIDATION_DIR = '/content/catsVdogs/validation/'\n",
        "\n",
        "train_generator, validation_generator = create_image_generators(TRAINING_DIR, VALIDATION_DIR)"
      ],
      "metadata": {
        "id": "oHYm-bsznBBn",
        "colab": {
          "base_uri": "https://localhost:8080/"
        },
        "outputId": "8d639482-e4c8-46f7-9c74-28200ba70d3d"
      },
      "execution_count": null,
      "outputs": [
        {
          "output_type": "stream",
          "name": "stdout",
          "text": [
            "Found 22498 images belonging to 2 classes.\n",
            "Found 2500 images belonging to 2 classes.\n"
          ]
        }
      ]
    },
    {
      "cell_type": "markdown",
      "source": [
        "As we can see our Image generators successfuly defined two classes for every directory"
      ],
      "metadata": {
        "id": "8sb1tG1Ps9YT"
      }
    },
    {
      "cell_type": "markdown",
      "source": [
        "Now we are going to create our model and build our DNN from scratch using tensorflow and keras"
      ],
      "metadata": {
        "id": "dvUilXXotQLY"
      }
    },
    {
      "cell_type": "code",
      "source": [
        "def create_model():\n",
        "\n",
        "  inputs = Input(shape=(150, 150, 3))\n",
        "  x = Conv2D(16, (3, 3), activation='relu')(inputs)\n",
        "  x = BatchNormalization()(x)\n",
        "  x = Conv2D(16, (3, 3), activation='relu')(x)\n",
        "  x = BatchNormalization()(x)\n",
        "  x = Dropout(0.2)(x)\n",
        "  x = MaxPooling2D(2, 2)(x)\n",
        "  x = BatchNormalization()(x)\n",
        "  x = Conv2D(32, (3, 3), activation='relu')(x)\n",
        "  x = BatchNormalization()(x)\n",
        "  x = Conv2D(64, (3, 3), activation='relu')(x)\n",
        "  x = BatchNormalization()(x)\n",
        "  x = Dropout(0.2)(x)\n",
        "  x = MaxPooling2D(2, 2)(x)\n",
        "  x = BatchNormalization()(x)\n",
        "  x = Conv2D(64, (3, 3), activation='relu')(x)\n",
        "  x = BatchNormalization()(x)\n",
        "  x = Conv2D(128, (3, 3), activation='relu')(x)\n",
        "  x = BatchNormalization()(x)\n",
        "  x = Dropout(0.2)(x)\n",
        "  x = MaxPooling2D(2, 2)(x)\n",
        "  x = BatchNormalization()(x)\n",
        "  x = Flatten()(x)\n",
        "  x = Dense(1024, activation='relu')(x)\n",
        "  x = BatchNormalization()(x)\n",
        "  x = Dropout(0.2)(x)\n",
        "  x = Dense(512, activation='relu')(x)\n",
        "  x = BatchNormalization()(x)\n",
        "  x = Dropout(0.2)(x)\n",
        "  x = Dense(1, activation='sigmoid')(x)\n",
        "\n",
        "  model = Model(inputs = inputs, outputs =  x)\n",
        "  \n",
        "  return model"
      ],
      "metadata": {
        "id": "vLtnbGv1tNNd"
      },
      "execution_count": null,
      "outputs": []
    },
    {
      "cell_type": "code",
      "source": [
        "model  = create_model()\n",
        "model.summary()"
      ],
      "metadata": {
        "id": "LUHO8oHh1lyg",
        "colab": {
          "base_uri": "https://localhost:8080/"
        },
        "outputId": "ef752916-d48c-4e48-b05f-df5ade438307"
      },
      "execution_count": null,
      "outputs": [
        {
          "output_type": "stream",
          "name": "stdout",
          "text": [
            "Model: \"model\"\n",
            "_________________________________________________________________\n",
            " Layer (type)                Output Shape              Param #   \n",
            "=================================================================\n",
            " input_1 (InputLayer)        [(None, 150, 150, 3)]     0         \n",
            "                                                                 \n",
            " conv2d (Conv2D)             (None, 148, 148, 16)      448       \n",
            "                                                                 \n",
            " batch_normalization (BatchN  (None, 148, 148, 16)     64        \n",
            " ormalization)                                                   \n",
            "                                                                 \n",
            " conv2d_1 (Conv2D)           (None, 146, 146, 16)      2320      \n",
            "                                                                 \n",
            " batch_normalization_1 (Batc  (None, 146, 146, 16)     64        \n",
            " hNormalization)                                                 \n",
            "                                                                 \n",
            " dropout (Dropout)           (None, 146, 146, 16)      0         \n",
            "                                                                 \n",
            " max_pooling2d (MaxPooling2D  (None, 73, 73, 16)       0         \n",
            " )                                                               \n",
            "                                                                 \n",
            " batch_normalization_2 (Batc  (None, 73, 73, 16)       64        \n",
            " hNormalization)                                                 \n",
            "                                                                 \n",
            " conv2d_2 (Conv2D)           (None, 71, 71, 32)        4640      \n",
            "                                                                 \n",
            " batch_normalization_3 (Batc  (None, 71, 71, 32)       128       \n",
            " hNormalization)                                                 \n",
            "                                                                 \n",
            " conv2d_3 (Conv2D)           (None, 69, 69, 64)        18496     \n",
            "                                                                 \n",
            " batch_normalization_4 (Batc  (None, 69, 69, 64)       256       \n",
            " hNormalization)                                                 \n",
            "                                                                 \n",
            " dropout_1 (Dropout)         (None, 69, 69, 64)        0         \n",
            "                                                                 \n",
            " max_pooling2d_1 (MaxPooling  (None, 34, 34, 64)       0         \n",
            " 2D)                                                             \n",
            "                                                                 \n",
            " batch_normalization_5 (Batc  (None, 34, 34, 64)       256       \n",
            " hNormalization)                                                 \n",
            "                                                                 \n",
            " conv2d_4 (Conv2D)           (None, 32, 32, 64)        36928     \n",
            "                                                                 \n",
            " batch_normalization_6 (Batc  (None, 32, 32, 64)       256       \n",
            " hNormalization)                                                 \n",
            "                                                                 \n",
            " conv2d_5 (Conv2D)           (None, 30, 30, 128)       73856     \n",
            "                                                                 \n",
            " batch_normalization_7 (Batc  (None, 30, 30, 128)      512       \n",
            " hNormalization)                                                 \n",
            "                                                                 \n",
            " dropout_2 (Dropout)         (None, 30, 30, 128)       0         \n",
            "                                                                 \n",
            " max_pooling2d_2 (MaxPooling  (None, 15, 15, 128)      0         \n",
            " 2D)                                                             \n",
            "                                                                 \n",
            " batch_normalization_8 (Batc  (None, 15, 15, 128)      512       \n",
            " hNormalization)                                                 \n",
            "                                                                 \n",
            " flatten (Flatten)           (None, 28800)             0         \n",
            "                                                                 \n",
            " dense (Dense)               (None, 1024)              29492224  \n",
            "                                                                 \n",
            " batch_normalization_9 (Batc  (None, 1024)             4096      \n",
            " hNormalization)                                                 \n",
            "                                                                 \n",
            " dropout_3 (Dropout)         (None, 1024)              0         \n",
            "                                                                 \n",
            " dense_1 (Dense)             (None, 512)               524800    \n",
            "                                                                 \n",
            " batch_normalization_10 (Bat  (None, 512)              2048      \n",
            " chNormalization)                                                \n",
            "                                                                 \n",
            " dropout_4 (Dropout)         (None, 512)               0         \n",
            "                                                                 \n",
            " dense_2 (Dense)             (None, 1)                 513       \n",
            "                                                                 \n",
            "=================================================================\n",
            "Total params: 30,162,481\n",
            "Trainable params: 30,158,353\n",
            "Non-trainable params: 4,128\n",
            "_________________________________________________________________\n"
          ]
        }
      ]
    },
    {
      "cell_type": "code",
      "source": [
        "model.compile(optimizer = Adam(learning_rate=0.001), \n",
        "             loss = 'binary_crossentropy', \n",
        "             metrics=['accuracy'])"
      ],
      "metadata": {
        "id": "C2_qfTBX0B1n"
      },
      "execution_count": null,
      "outputs": []
    },
    {
      "cell_type": "code",
      "source": [
        "class myCallback(tf.keras.callbacks.Callback):\n",
        "    def on_epoch_end(self, epoch, logs={}):\n",
        "        if logs.get('accuracy') is not None and logs.get('accuracy') > 0.95:\n",
        "            print(\"\\nReached 99.9% accuracy so cancelling training!\")\n",
        "            self.model.stop_training = True"
      ],
      "metadata": {
        "id": "eALVx2Od3BkI"
      },
      "execution_count": null,
      "outputs": []
    },
    {
      "cell_type": "code",
      "source": [
        "callbacks = myCallback()\n",
        "history = model.fit(\n",
        "    train_generator,\n",
        "    epochs = 100, \n",
        "    verbose = 1,\n",
        "    validation_data=validation_generator,\n",
        "    callbacks=[callbacks] \n",
        ")"
      ],
      "metadata": {
        "colab": {
          "base_uri": "https://localhost:8080/"
        },
        "id": "eFUISjIV17ua",
        "outputId": "084c0294-24f3-4f3b-dbaa-b1323c162ad2"
      },
      "execution_count": null,
      "outputs": [
        {
          "output_type": "stream",
          "name": "stdout",
          "text": [
            "Epoch 1/100\n",
            "161/176 [==========================>...] - ETA: 14s - loss: 0.3646 - accuracy: 0.8364"
          ]
        },
        {
          "output_type": "stream",
          "name": "stderr",
          "text": [
            "/usr/local/lib/python3.7/dist-packages/PIL/TiffImagePlugin.py:770: UserWarning: Possibly corrupt EXIF data.  Expecting to read 32 bytes but only got 0. Skipping tag 270\n",
            "  \" Skipping tag %s\" % (size, len(data), tag)\n",
            "/usr/local/lib/python3.7/dist-packages/PIL/TiffImagePlugin.py:770: UserWarning: Possibly corrupt EXIF data.  Expecting to read 5 bytes but only got 0. Skipping tag 271\n",
            "  \" Skipping tag %s\" % (size, len(data), tag)\n",
            "/usr/local/lib/python3.7/dist-packages/PIL/TiffImagePlugin.py:770: UserWarning: Possibly corrupt EXIF data.  Expecting to read 8 bytes but only got 0. Skipping tag 272\n",
            "  \" Skipping tag %s\" % (size, len(data), tag)\n",
            "/usr/local/lib/python3.7/dist-packages/PIL/TiffImagePlugin.py:770: UserWarning: Possibly corrupt EXIF data.  Expecting to read 8 bytes but only got 0. Skipping tag 282\n",
            "  \" Skipping tag %s\" % (size, len(data), tag)\n",
            "/usr/local/lib/python3.7/dist-packages/PIL/TiffImagePlugin.py:770: UserWarning: Possibly corrupt EXIF data.  Expecting to read 8 bytes but only got 0. Skipping tag 283\n",
            "  \" Skipping tag %s\" % (size, len(data), tag)\n",
            "/usr/local/lib/python3.7/dist-packages/PIL/TiffImagePlugin.py:770: UserWarning: Possibly corrupt EXIF data.  Expecting to read 20 bytes but only got 0. Skipping tag 306\n",
            "  \" Skipping tag %s\" % (size, len(data), tag)\n",
            "/usr/local/lib/python3.7/dist-packages/PIL/TiffImagePlugin.py:770: UserWarning: Possibly corrupt EXIF data.  Expecting to read 48 bytes but only got 0. Skipping tag 532\n",
            "  \" Skipping tag %s\" % (size, len(data), tag)\n",
            "/usr/local/lib/python3.7/dist-packages/PIL/TiffImagePlugin.py:788: UserWarning: Corrupt EXIF data.  Expecting to read 2 bytes but only got 0. \n",
            "  warnings.warn(str(msg))\n"
          ]
        },
        {
          "output_type": "stream",
          "name": "stdout",
          "text": [
            "176/176 [==============================] - 174s 988ms/step - loss: 0.3621 - accuracy: 0.8383 - val_loss: 0.3990 - val_accuracy: 0.8232\n",
            "Epoch 2/100\n",
            "176/176 [==============================] - 171s 972ms/step - loss: 0.3330 - accuracy: 0.8521 - val_loss: 0.3541 - val_accuracy: 0.8472\n",
            "Epoch 3/100\n",
            "176/176 [==============================] - 171s 971ms/step - loss: 0.3046 - accuracy: 0.8682 - val_loss: 0.6871 - val_accuracy: 0.7620\n",
            "Epoch 4/100\n",
            "176/176 [==============================] - 171s 971ms/step - loss: 0.2846 - accuracy: 0.8776 - val_loss: 0.8977 - val_accuracy: 0.6688\n",
            "Epoch 5/100\n",
            "176/176 [==============================] - 171s 973ms/step - loss: 0.2661 - accuracy: 0.8877 - val_loss: 0.5726 - val_accuracy: 0.7972\n",
            "Epoch 6/100\n",
            "176/176 [==============================] - 170s 965ms/step - loss: 0.2510 - accuracy: 0.8915 - val_loss: 0.2737 - val_accuracy: 0.8844\n",
            "Epoch 7/100\n",
            "176/176 [==============================] - 171s 972ms/step - loss: 0.2375 - accuracy: 0.8999 - val_loss: 0.4148 - val_accuracy: 0.8268\n",
            "Epoch 8/100\n",
            "176/176 [==============================] - 171s 970ms/step - loss: 0.2260 - accuracy: 0.9050 - val_loss: 0.3672 - val_accuracy: 0.8448\n",
            "Epoch 9/100\n",
            "176/176 [==============================] - 170s 966ms/step - loss: 0.2205 - accuracy: 0.9069 - val_loss: 0.1959 - val_accuracy: 0.9272\n",
            "Epoch 10/100\n",
            "176/176 [==============================] - 171s 972ms/step - loss: 0.2067 - accuracy: 0.9135 - val_loss: 0.2176 - val_accuracy: 0.9140\n",
            "Epoch 11/100\n",
            "176/176 [==============================] - 171s 971ms/step - loss: 0.2055 - accuracy: 0.9127 - val_loss: 0.3957 - val_accuracy: 0.8328\n",
            "Epoch 12/100\n",
            "176/176 [==============================] - 171s 973ms/step - loss: 0.1918 - accuracy: 0.9199 - val_loss: 0.2897 - val_accuracy: 0.8848\n",
            "Epoch 13/100\n",
            "176/176 [==============================] - 171s 968ms/step - loss: 0.1914 - accuracy: 0.9206 - val_loss: 0.1878 - val_accuracy: 0.9236\n",
            "Epoch 14/100\n",
            "176/176 [==============================] - 171s 969ms/step - loss: 0.1863 - accuracy: 0.9247 - val_loss: 0.3839 - val_accuracy: 0.8508\n",
            "Epoch 15/100\n",
            "176/176 [==============================] - 169s 961ms/step - loss: 0.1817 - accuracy: 0.9225 - val_loss: 0.1552 - val_accuracy: 0.9404\n",
            "Epoch 16/100\n",
            "176/176 [==============================] - 169s 958ms/step - loss: 0.1718 - accuracy: 0.9283 - val_loss: 0.2400 - val_accuracy: 0.8968\n",
            "Epoch 17/100\n",
            "176/176 [==============================] - 170s 965ms/step - loss: 0.1695 - accuracy: 0.9308 - val_loss: 0.1804 - val_accuracy: 0.9188\n",
            "Epoch 18/100\n",
            "176/176 [==============================] - 178s 1s/step - loss: 0.1684 - accuracy: 0.9301 - val_loss: 0.1567 - val_accuracy: 0.9376\n",
            "Epoch 19/100\n",
            "176/176 [==============================] - 171s 972ms/step - loss: 0.1654 - accuracy: 0.9306 - val_loss: 0.1507 - val_accuracy: 0.9360\n",
            "Epoch 20/100\n",
            "176/176 [==============================] - 169s 961ms/step - loss: 0.1607 - accuracy: 0.9329 - val_loss: 0.1377 - val_accuracy: 0.9436\n",
            "Epoch 21/100\n",
            "176/176 [==============================] - 170s 963ms/step - loss: 0.1596 - accuracy: 0.9346 - val_loss: 0.3478 - val_accuracy: 0.8556\n",
            "Epoch 22/100\n",
            "176/176 [==============================] - 170s 965ms/step - loss: 0.1590 - accuracy: 0.9353 - val_loss: 0.4027 - val_accuracy: 0.8380\n",
            "Epoch 23/100\n",
            "176/176 [==============================] - 169s 962ms/step - loss: 0.1550 - accuracy: 0.9375 - val_loss: 0.1888 - val_accuracy: 0.9204\n",
            "Epoch 24/100\n",
            "176/176 [==============================] - 175s 991ms/step - loss: 0.1474 - accuracy: 0.9397 - val_loss: 0.2242 - val_accuracy: 0.9092\n",
            "Epoch 25/100\n",
            "176/176 [==============================] - 171s 970ms/step - loss: 0.1493 - accuracy: 0.9411 - val_loss: 0.1449 - val_accuracy: 0.9420\n",
            "Epoch 26/100\n",
            "176/176 [==============================] - 171s 974ms/step - loss: 0.1441 - accuracy: 0.9416 - val_loss: 0.1707 - val_accuracy: 0.9344\n",
            "Epoch 27/100\n",
            "176/176 [==============================] - 170s 963ms/step - loss: 0.1463 - accuracy: 0.9404 - val_loss: 0.1559 - val_accuracy: 0.9396\n",
            "Epoch 28/100\n",
            "176/176 [==============================] - 170s 964ms/step - loss: 0.1417 - accuracy: 0.9420 - val_loss: 0.1502 - val_accuracy: 0.9432\n",
            "Epoch 29/100\n",
            "176/176 [==============================] - 169s 960ms/step - loss: 0.1418 - accuracy: 0.9428 - val_loss: 0.1536 - val_accuracy: 0.9440\n",
            "Epoch 30/100\n",
            "176/176 [==============================] - 170s 967ms/step - loss: 0.1400 - accuracy: 0.9436 - val_loss: 0.3242 - val_accuracy: 0.8676\n",
            "Epoch 31/100\n",
            "176/176 [==============================] - 171s 968ms/step - loss: 0.1344 - accuracy: 0.9464 - val_loss: 0.1645 - val_accuracy: 0.9340\n",
            "Epoch 32/100\n",
            "176/176 [==============================] - 169s 961ms/step - loss: 0.1359 - accuracy: 0.9448 - val_loss: 0.1470 - val_accuracy: 0.9436\n",
            "Epoch 33/100\n",
            "176/176 [==============================] - 171s 973ms/step - loss: 0.1341 - accuracy: 0.9462 - val_loss: 0.1569 - val_accuracy: 0.9316\n",
            "Epoch 34/100\n",
            "176/176 [==============================] - 171s 973ms/step - loss: 0.1311 - accuracy: 0.9467 - val_loss: 0.1720 - val_accuracy: 0.9304\n",
            "Epoch 35/100\n",
            "176/176 [==============================] - 170s 968ms/step - loss: 0.1324 - accuracy: 0.9473 - val_loss: 0.1241 - val_accuracy: 0.9508\n",
            "Epoch 36/100\n",
            "176/176 [==============================] - 170s 965ms/step - loss: 0.1284 - accuracy: 0.9481 - val_loss: 0.2264 - val_accuracy: 0.9004\n",
            "Epoch 37/100\n",
            "176/176 [==============================] - 170s 967ms/step - loss: 0.1296 - accuracy: 0.9472 - val_loss: 0.1387 - val_accuracy: 0.9428\n",
            "Epoch 38/100\n",
            "176/176 [==============================] - 170s 966ms/step - loss: 0.1257 - accuracy: 0.9497 - val_loss: 0.1921 - val_accuracy: 0.9240\n",
            "Epoch 39/100\n",
            "176/176 [==============================] - 170s 965ms/step - loss: 0.1261 - accuracy: 0.9498 - val_loss: 0.2113 - val_accuracy: 0.9092\n",
            "Epoch 40/100\n",
            "176/176 [==============================] - 169s 961ms/step - loss: 0.1234 - accuracy: 0.9491 - val_loss: 0.2205 - val_accuracy: 0.9072\n",
            "Epoch 41/100\n",
            "176/176 [==============================] - ETA: 0s - loss: 0.1207 - accuracy: 0.9516\n",
            "Reached 99.9% accuracy so cancelling training!\n",
            "176/176 [==============================] - 169s 962ms/step - loss: 0.1207 - accuracy: 0.9516 - val_loss: 0.1302 - val_accuracy: 0.9492\n"
          ]
        }
      ]
    },
    {
      "cell_type": "markdown",
      "source": [
        "The Last step in our notebook is to visualize the training results so we can see how our training and validation accuracies like, This help us to know at which point our model is getting to overfit and where is the best training point that the model reached to it during training."
      ],
      "metadata": {
        "id": "g9eXGFcXRfzL"
      }
    },
    {
      "cell_type": "code",
      "source": [
        "acc = history.history['accuracy']\n",
        "val_acc = history.history['val_accuracy']\n",
        "\n",
        "loss = history.history['loss']\n",
        "val_loss = history.history['val_loss']\n",
        "\n",
        "plt.figure(figsize=(8, 8))\n",
        "plt.subplot(2, 1, 1)\n",
        "plt.plot(acc, label='Training Accuracy')\n",
        "plt.plot(val_acc, label='Validation Accuracy')\n",
        "plt.legend(loc='lower right')\n",
        "plt.ylabel('Accuracy')\n",
        "plt.ylim([min(plt.ylim()),1])\n",
        "plt.title('Training and Validation Accuracy')\n",
        "\n",
        "plt.subplot(2, 1, 2)\n",
        "plt.plot(loss, label='Training Loss')\n",
        "plt.plot(val_loss, label='Validation Loss')\n",
        "plt.legend(loc='upper right')\n",
        "plt.ylabel('Cross Entropy')\n",
        "plt.ylim([0,1.0])\n",
        "plt.title('Training and Validation Loss')\n",
        "plt.xlabel('epoch')\n",
        "plt.show()"
      ],
      "metadata": {
        "colab": {
          "base_uri": "https://localhost:8080/",
          "height": 513
        },
        "id": "p7C-o4vwPpp8",
        "outputId": "4c25c716-37e2-4eec-c669-d9248ee9710a"
      },
      "execution_count": null,
      "outputs": [
        {
          "output_type": "display_data",
          "data": {
            "text/plain": [
              "<Figure size 576x576 with 2 Axes>"
            ],
            "image/png": "[encoded data removed]"
          },
          "metadata": {
            "needs_background": "light"
          }
        }
      ]
    },
    {
      "cell_type": "code",
      "source": [
        "images = os.listdir(os.path.join(\"/content/test_images/\"))\n",
        "\n",
        "for i in images:\n",
        "  path = \"/content/test_images/\" + i\n",
        "  img = image.load_img(path, target_size= (150, 150))\n",
        "  x = image.img_to_array(img)\n",
        "  x /= 255.0\n",
        "  x = np.expand_dims(x, axis=0)\n",
        "\n",
        "  images = np.vstack([x])\n",
        "  classes = model.predict(images)\n",
        "\n",
        "  for n in classes:\n",
        "    if n[0] > 0.5:\n",
        "      print(f'the probability for image {i} is dog')\n",
        "    else:\n",
        "      print(f'the probability for image {i} is cat')"
      ],
      "metadata": {
        "id": "4HTJfKXZdPy8",
        "outputId": "d7e1bbca-d3d2-4842-a840-9c04d314e6d9",
        "colab": {
          "base_uri": "https://localhost:8080/"
        }
      },
      "execution_count": null,
      "outputs": [
        {
          "output_type": "stream",
          "name": "stdout",
          "text": [
            "the probability for image cat1.jpg is cat\n",
            "the probability for image cat18.jpg is cat\n",
            "the probability for image dog1.jpg is dog\n",
            "the probability for image cat16.jpg is cat\n",
            "the probability for image cat19.jpg is cat\n",
            "the probability for image cat12.jpg is cat\n",
            "the probability for image cat7.jpg is cat\n",
            "the probability for image cat9.jpg is cat\n",
            "the probability for image cat15.jpg is cat\n",
            "the probability for image cat3.jpg is cat\n",
            "the probability for image cat20.jpg is cat\n",
            "the probability for image cat6.jpg is cat\n",
            "the probability for image cat2.jpg is cat\n",
            "the probability for image dog5.jpg is dog\n",
            "the probability for image dog3.jpg is dog\n",
            "the probability for image dog2.jpg is dog\n",
            "the probability for image dog4.jpg is dog\n",
            "the probability for image cat8.jpg is cat\n",
            "the probability for image cat4.jpg is cat\n",
            "the probability for image cat14.jpg is cat\n",
            "the probability for image cat17.jpg is cat\n",
            "the probability for image cat13.jpg is cat\n",
            "the probability for image cat11.jpg is cat\n",
            "the probability for image cat21.jpg is dog\n",
            "the probability for image cat5.jpg is cat\n",
            "the probability for image cat10.jpg is cat\n"
          ]
        }
      ]
    }
  ]
}