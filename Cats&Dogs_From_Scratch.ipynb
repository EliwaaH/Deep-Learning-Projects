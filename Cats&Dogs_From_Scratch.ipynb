{
  "nbformat": 4,
  "nbformat_minor": 0,
  "metadata": {
    "colab": {
      "provenance": [],
      "collapsed_sections": [],
      "authorship_tag": "ABX9TyM7Y/BcvOyNZ5qQ7wnvJyH6",
      "include_colab_link": true
    },
    "kernelspec": {
      "name": "python3",
      "display_name": "Python 3"
    },
    "language_info": {
      "name": "python"
    },
    "accelerator": "GPU"
  },
  "cells": [
    {
      "cell_type": "markdown",
      "metadata": {
        "id": "view-in-github",
        "colab_type": "text"
      },
      "source": [
        "<a href=\"https://colab.research.google.com/github/EliwaaH/Deep-Learning-Projects/blob/main/Cats%26Dogs_From_Scratch.ipynb\" target=\"_parent\"><img src=\"https://colab.research.google.com/assets/colab-badge.svg\" alt=\"Open In Colab\"/></a>"
      ]
    },
    {
      "cell_type": "markdown",
      "source": [
        "Here, we will use Kaggel cats and dogs dataset and we will build a classifier using Tensorflow and Keras from scratch.\n",
        "\n",
        "This is the first part of three parts project which contains\n",
        "\n",
        "\n",
        "*   **Cats & Dogs classifier from scratch (This notebook)**\n",
        "*   Cats & Dogs classifier using Feature Extraction method \n",
        "\n",
        "*   Cats & Dogs classifier using Fine Tuning method\n",
        "\n",
        "\n",
        "\n",
        "\n",
        "\n"
      ],
      "metadata": {
        "id": "tt9WUGCkuRhN"
      }
    },
    {
      "cell_type": "code",
      "source": [
        "import numpy as np\n",
        "import os\n",
        "import random\n",
        "import zipfile \n",
        "import shutil\n",
        "import tensorflow as tf \n",
        "from tensorflow.keras.optimizers import Adam, RMSprop\n",
        "from tensorflow.keras.layers import Conv2D, MaxPooling2D, Flatten, Dense, Dropout, Input\n",
        "from tensorflow.keras.models import Model\n",
        "from tensorflow.keras.preprocessing.image import ImageDataGenerator\n",
        "from shutil import copyfile\n",
        "import matplotlib.pyplot as plt"
      ],
      "metadata": {
        "id": "Hm53udBKvJad"
      },
      "execution_count": 1,
      "outputs": []
    },
    {
      "cell_type": "code",
      "source": [
        "!wget --no-check-certificate \\\n",
        "    \"https://download.microsoft.com/download/3/E/1/3E1C3F21-ECDB-4869-8368-6DEBA77B919F/kagglecatsanddogs_5340.zip\" \\\n",
        "    -O \"/content/catsVdogs.zip\""
      ],
      "metadata": {
        "colab": {
          "base_uri": "https://localhost:8080/"
        },
        "id": "6iOfquoF2U52",
        "outputId": "54120f33-586d-4df1-c30b-2f62377191f4"
      },
      "execution_count": 2,
      "outputs": [
        {
          "output_type": "stream",
          "name": "stdout",
          "text": [
            "--2022-09-22 20:17:50--  https://download.microsoft.com/download/3/E/1/3E1C3F21-ECDB-4869-8368-6DEBA77B919F/kagglecatsanddogs_5340.zip\n",
            "Resolving download.microsoft.com (download.microsoft.com)... 104.117.233.21, 2600:1409:9800:984::317f, 2600:1409:9800:98c::317f\n",
            "Connecting to download.microsoft.com (download.microsoft.com)|104.117.233.21|:443... connected.\n",
            "HTTP request sent, awaiting response... 200 OK\n",
            "Length: 824887076 (787M) [application/octet-stream]\n",
            "Saving to: ‘/content/catsVdogs.zip’\n",
            "\n",
            "/content/catsVdogs. 100%[===================>] 786.67M   219MB/s    in 3.7s    \n",
            "\n",
            "2022-09-22 20:17:54 (211 MB/s) - ‘/content/catsVdogs.zip’ saved [824887076/824887076]\n",
            "\n"
          ]
        }
      ]
    },
    {
      "cell_type": "code",
      "source": [
        "# Here, we are zipping our downloaded dataset and extract it in our working directory \n",
        "\n",
        "local_zip = \"/content/catsVdogs.zip\"\n",
        "zip_file = zipfile.ZipFile(local_zip, 'r')\n",
        "current_dir = os.getcwd()\n",
        "zip_file.extractall(current_dir)\n",
        "zip_file.close()"
      ],
      "metadata": {
        "id": "hbFt7Lqz4SUt"
      },
      "execution_count": 3,
      "outputs": []
    },
    {
      "cell_type": "code",
      "source": [
        "source_path = '/content/PetImages'\n",
        "\n",
        "source_path_cats = os.path.join(source_path, 'Cat')\n",
        "source_path_dogs = os.path.join(source_path, 'Dog')\n",
        "\n",
        "# Here, we are removing any file that doesn't has the file format jpg in our working files\n",
        "!find /content/PetImages/ -type f ! -name \"*.jpg\" -exec rm {} +\n",
        "\n",
        "print(f'Found {len(os.listdir(source_path_cats))} images of cats')\n",
        "print(f'Found {len(os.listdir(source_path_dogs))} images of dogs')"
      ],
      "metadata": {
        "colab": {
          "base_uri": "https://localhost:8080/"
        },
        "id": "ssPSurS85JCf",
        "outputId": "2e168f3a-381c-47dd-c035-4b5196fdb012"
      },
      "execution_count": 4,
      "outputs": [
        {
          "output_type": "stream",
          "name": "stdout",
          "text": [
            "Found 12500 images of cats\n",
            "Found 12500 images of dogs\n"
          ]
        }
      ]
    },
    {
      "cell_type": "markdown",
      "source": [
        "So, After downloading our data and clean it we have to prepare our training and validation directories to copy cats and dogs images in it"
      ],
      "metadata": {
        "id": "kwfxB0MR_5id"
      }
    },
    {
      "cell_type": "code",
      "source": [
        "# Training and Validation Directories Preparation\n",
        "\n",
        "def create_train_valid_dirs():\n",
        "  \n",
        "  cur_dir = os.getcwd()\n",
        "\n",
        "  \n",
        "  #Checking if the main directory is already exists or not, if exist so delete the whole directroy\n",
        "  if os.path.exists(os.path.join(f'{cur_dir}/catsVdogs')):\n",
        "    shutil.rmtree(os.path.join(f'{cur_dir}/catsVdogs'))\n",
        "\n",
        "  #creating the main directory\n",
        "  os.mkdir(os.path.join(cur_dir, 'catsVdogs'))\n",
        "\n",
        "\n",
        "  #creatin the training directory\n",
        "  os.mkdir(os.path.join(f'{cur_dir}/catsVdogs', 'training'))\n",
        "  os.mkdir(os.path.join(f'{cur_dir}/catsVdogs/training', 'cats'))\n",
        "  os.mkdir(os.path.join(f'{cur_dir}/catsVdogs/training', 'dogs'))\n",
        "  \n",
        "  #creating the validation directory\n",
        "  os.mkdir(os.path.join(f'{cur_dir}/catsVdogs', 'validation'))\n",
        "  os.mkdir(os.path.join(f'{cur_dir}/catsVdogs/validation', 'cats'))\n",
        "  os.mkdir(os.path.join(f'{cur_dir}/catsVdogs/validation', 'dogs'))\n",
        "\n",
        "  pass\n",
        "\n",
        "create_train_valid_dirs()"
      ],
      "metadata": {
        "id": "788PouIv-bLu"
      },
      "execution_count": 10,
      "outputs": []
    },
    {
      "cell_type": "markdown",
      "source": [
        "The next step is splitting our data into validation and training samples, so we will create a function that will do some steps on data before splitting\n",
        "\n",
        "1.   Randomize our data by shuffling it by using (random.sample(list, len(list))\n",
        "2.   Check if there's any image that doesn't have a size(undefined image)\n",
        "\n",
        "1.   Splitting our data by a ratio that we will define\n",
        "\n",
        "\n",
        "\n"
      ],
      "metadata": {
        "id": "wZce52mwVy4C"
      }
    },
    {
      "cell_type": "code",
      "source": [
        "def split_data(source_dir, training_dir, validation_dir, split_size):\n",
        "  \n",
        "  shuffled_data = random.sample(list(os.listdir(source_dir)), len(os.listdir(source_dir)))\n",
        "  training_number = int(len(shuffled_data) * split_size)\n",
        "\n",
        "  i = 0\n",
        "  dir = training_dir\n",
        "\n",
        "  for im in shuffled_data:\n",
        "    image_source = os.path.join(source_dir, im)\n",
        "\n",
        "    if i == training_number:\n",
        "      dir = validation_dir\n",
        "    \n",
        "    i += 1\n",
        "\n",
        "    if os.path.getsize(image_source) == 0:\n",
        "      print(f'{im} is zero lentgh, so ignoring')\n",
        "\n",
        "    else:\n",
        "      copyfile(image_source, os.path.join(dir, im))\n",
        "\n",
        "\n",
        "  pass"
      ],
      "metadata": {
        "id": "rNJHhwQ7HY0b"
      },
      "execution_count": 11,
      "outputs": []
    },
    {
      "cell_type": "markdown",
      "source": [
        "After creating our function we have to define our paths and check the number of images that will fly to our image generators which will be the input for our classifier."
      ],
      "metadata": {
        "id": "OxKC4mxNfRSs"
      }
    },
    {
      "cell_type": "code",
      "source": [
        "CAT_DIRECTORY = '/content/PetImages/Cat/'\n",
        "DOG_DIRECTORY = '/content/PetImages/Dog/'\n",
        "\n",
        "TRAINING_CAT_DIR = '/content/catsVdogs/training/cats/'\n",
        "TRAINING_DOG_DIR = '/content/catsVdogs/training/dogs/'\n",
        "VALIDATION_CAT_DIR = '/content/catsVdogs/validation/cats/'\n",
        "VALIDATION_DOG_DIR = '/content/catsVdogs/validation/dogs/'\n",
        "\n",
        "\n",
        "if len(os.listdir(TRAINING_CAT_DIR)) > 0:\n",
        "  for file in os.scandir(TRAINING_CAT_DIR):\n",
        "    os.remove(file.path)\n",
        "if len(os.listdir(TRAINING_DOG_DIR)) > 0:\n",
        "  for file in os.scandir(TRAINING_DOG_DIR):\n",
        "    os.remove(file.path)\n",
        "if len(os.listdir(VALIDATION_CAT_DIR)) > 0:\n",
        "  for file in os.scandir(VALIDATION_CAT_DIR):\n",
        "    os.remove(file.path)\n",
        "if len(os.listdir(VALIDATION_DOG_DIR)) > 0:\n",
        "  for file in os.scandir(VALIDATION_DOG_DIR):\n",
        "    os.remove(file.path)\n",
        "\n",
        "split_data(CAT_DIRECTORY, TRAINING_CAT_DIR, VALIDATION_CAT_DIR, 0.9)\n",
        "split_data(DOG_DIRECTORY, TRAINING_DOG_DIR, VALIDATION_DOG_DIR, 0.9)\n",
        "\n",
        "print(f\"\\n\\nThere are {len(os.listdir(TRAINING_CAT_DIR))} images of cats for training\")\n",
        "print(f\"There are {len(os.listdir(TRAINING_DOG_DIR))} images of dogs for training\")\n",
        "print(f\"There are {len(os.listdir(VALIDATION_CAT_DIR))} images of cats for testing\")\n",
        "print(f\"There are {len(os.listdir(VALIDATION_DOG_DIR))} images of dogs for testing\")\n"
      ],
      "metadata": {
        "colab": {
          "base_uri": "https://localhost:8080/"
        },
        "id": "WQ4yX5JDZhKc",
        "outputId": "902e279f-58b0-48fa-aa9f-7d7d9f63f688"
      },
      "execution_count": 12,
      "outputs": [
        {
          "output_type": "stream",
          "name": "stdout",
          "text": [
            "666.jpg is zero lentgh, so ignoring\n",
            "11702.jpg is zero lentgh, so ignoring\n",
            "\n",
            "\n",
            "There are 11249 images of cats for training\n",
            "There are 11249 images of dogs for training\n",
            "There are 1250 images of cats for testing\n",
            "There are 1250 images of dogs for testing\n"
          ]
        }
      ]
    },
    {
      "cell_type": "markdown",
      "source": [
        "Now, we are in the last part of preparing our data which is making the genrators that will be the classifier input.\n",
        "\n",
        "Generators are very useful keras image API that can do a lot of operations to our data before going to the classifier like AUGMENTAION."
      ],
      "metadata": {
        "id": "1mUoLFo-kitb"
      }
    },
    {
      "cell_type": "code",
      "source": [
        "def create_image_generators(TRAINING_DIR, VALIDATION_DIR):\n",
        "\n",
        "  train_data = ImageDataGenerator(\n",
        "      rescale=1./255.,\n",
        "      rotation_range=40,\n",
        "      width_shift_range=0.2,\n",
        "      height_shift_range=0.2,\n",
        "      zoom_range=0.2,\n",
        "      shear_range=0.2,\n",
        "      horizontal_flip=True,\n",
        "      fill_mode='nearest'\n",
        "  )\n",
        "\n",
        "  train_generator=train_data.flow_from_directory(\n",
        "      directory = TRAINING_DIR,\n",
        "      batch_size = 128, \n",
        "      class_mode='binary',\n",
        "      target_size = (150, 150)\n",
        "  )\n",
        "\n",
        "\n",
        "  valid_data = ImageDataGenerator(rescale=1./255.)\n",
        "\n",
        "  validation_generator = valid_data.flow_from_directory(\n",
        "      directory = VALIDATION_DIR, \n",
        "      batch_size = 32, \n",
        "      class_mode='binary',\n",
        "      target_size = (150, 150)\n",
        "  )\n",
        "\n",
        "  return train_generator, validation_generator"
      ],
      "metadata": {
        "id": "Wi8MvYk2esNM"
      },
      "execution_count": 13,
      "outputs": []
    },
    {
      "cell_type": "code",
      "source": [
        "TRAINING_DIR = '/content/catsVdogs/training/'\n",
        "VALIDATION_DIR = '/content/catsVdogs/validation/'\n",
        "\n",
        "train_generator, validation_generator = create_image_generators(TRAINING_DIR, VALIDATION_DIR)"
      ],
      "metadata": {
        "id": "oHYm-bsznBBn",
        "colab": {
          "base_uri": "https://localhost:8080/"
        },
        "outputId": "b5259061-0446-4ddd-fb54-ecef1fa0f0ac"
      },
      "execution_count": 14,
      "outputs": [
        {
          "output_type": "stream",
          "name": "stdout",
          "text": [
            "Found 22498 images belonging to 2 classes.\n",
            "Found 2500 images belonging to 2 classes.\n"
          ]
        }
      ]
    },
    {
      "cell_type": "markdown",
      "source": [
        "As we can see our Image generators successfuly defined two classes for every directory"
      ],
      "metadata": {
        "id": "8sb1tG1Ps9YT"
      }
    },
    {
      "cell_type": "markdown",
      "source": [
        "Now we are going to create our model and build our DNN from scratch using tensorflow and keras"
      ],
      "metadata": {
        "id": "dvUilXXotQLY"
      }
    },
    {
      "cell_type": "code",
      "source": [
        "def create_model():\n",
        "\n",
        "  inputs = Input(shape=(150, 150, 3))\n",
        "  x = Conv2D(16, (3, 3), activation='relu')(inputs)\n",
        "  x = Conv2D(16, (3, 3), activation='relu')(x)\n",
        "  x = Dropout(0.2)(x)\n",
        "  x = MaxPooling2D(2, 2)(x)\n",
        "  x = Conv2D(32, (3, 3), activation='relu')(x)\n",
        "  x = Conv2D(64, (3, 3), activation='relu')(x)\n",
        "  x = Dropout(0.2)(x)\n",
        "  x = MaxPooling2D(2, 2)(x)\n",
        "  x = Conv2D(64, (3, 3), activation='relu')(x)\n",
        "  x = Conv2D(128, (3, 3), activation='relu')(x)\n",
        "  x = Dropout(0.2)(x)\n",
        "  x = MaxPooling2D(2, 2)(x)\n",
        "\n",
        "  x = Flatten()(x)\n",
        "  x = Dense(1024, activation='relu')(x)\n",
        "  x = Dropout(0.2)(x)\n",
        "  x = Dense(512, activation='relu')(x)\n",
        "  x = Dropout(0.2)(x)\n",
        "  x = Dense(1, activation='sigmoid')(x)\n",
        "\n",
        "  model = Model(inputs = inputs, outputs =  x)\n",
        "  \n",
        "  return model"
      ],
      "metadata": {
        "id": "vLtnbGv1tNNd"
      },
      "execution_count": 15,
      "outputs": []
    },
    {
      "cell_type": "code",
      "source": [
        "model  = create_model()"
      ],
      "metadata": {
        "id": "LUHO8oHh1lyg"
      },
      "execution_count": 16,
      "outputs": []
    },
    {
      "cell_type": "code",
      "source": [
        "model.compile(optimizer = Adam(learning_rate=0.0001), \n",
        "             loss = 'binary_crossentropy', \n",
        "             metrics=['accuracy'])"
      ],
      "metadata": {
        "id": "C2_qfTBX0B1n"
      },
      "execution_count": 17,
      "outputs": []
    },
    {
      "cell_type": "code",
      "source": [
        "history = model.fit(\n",
        "    train_generator,\n",
        "    epochs = 50, \n",
        "    verbose = 1,\n",
        "    validation_data=validation_generator \n",
        ")"
      ],
      "metadata": {
        "colab": {
          "base_uri": "https://localhost:8080/"
        },
        "id": "eFUISjIV17ua",
        "outputId": "534a5043-8e3b-4c22-e80e-7e774c7b8740"
      },
      "execution_count": 18,
      "outputs": [
        {
          "output_type": "stream",
          "name": "stdout",
          "text": [
            "Epoch 1/50\n"
          ]
        },
        {
          "output_type": "stream",
          "name": "stderr",
          "text": [
            "/usr/local/lib/python3.7/dist-packages/PIL/TiffImagePlugin.py:770: UserWarning: Possibly corrupt EXIF data.  Expecting to read 32 bytes but only got 0. Skipping tag 270\n",
            "  \" Skipping tag %s\" % (size, len(data), tag)\n",
            "/usr/local/lib/python3.7/dist-packages/PIL/TiffImagePlugin.py:770: UserWarning: Possibly corrupt EXIF data.  Expecting to read 5 bytes but only got 0. Skipping tag 271\n",
            "  \" Skipping tag %s\" % (size, len(data), tag)\n",
            "/usr/local/lib/python3.7/dist-packages/PIL/TiffImagePlugin.py:770: UserWarning: Possibly corrupt EXIF data.  Expecting to read 8 bytes but only got 0. Skipping tag 272\n",
            "  \" Skipping tag %s\" % (size, len(data), tag)\n",
            "/usr/local/lib/python3.7/dist-packages/PIL/TiffImagePlugin.py:770: UserWarning: Possibly corrupt EXIF data.  Expecting to read 8 bytes but only got 0. Skipping tag 282\n",
            "  \" Skipping tag %s\" % (size, len(data), tag)\n",
            "/usr/local/lib/python3.7/dist-packages/PIL/TiffImagePlugin.py:770: UserWarning: Possibly corrupt EXIF data.  Expecting to read 8 bytes but only got 0. Skipping tag 283\n",
            "  \" Skipping tag %s\" % (size, len(data), tag)\n",
            "/usr/local/lib/python3.7/dist-packages/PIL/TiffImagePlugin.py:770: UserWarning: Possibly corrupt EXIF data.  Expecting to read 20 bytes but only got 0. Skipping tag 306\n",
            "  \" Skipping tag %s\" % (size, len(data), tag)\n",
            "/usr/local/lib/python3.7/dist-packages/PIL/TiffImagePlugin.py:770: UserWarning: Possibly corrupt EXIF data.  Expecting to read 48 bytes but only got 0. Skipping tag 532\n",
            "  \" Skipping tag %s\" % (size, len(data), tag)\n",
            "/usr/local/lib/python3.7/dist-packages/PIL/TiffImagePlugin.py:788: UserWarning: Corrupt EXIF data.  Expecting to read 2 bytes but only got 0. \n",
            "  warnings.warn(str(msg))\n"
          ]
        },
        {
          "output_type": "stream",
          "name": "stdout",
          "text": [
            "176/176 [==============================] - 184s 961ms/step - loss: 0.6664 - accuracy: 0.5730 - val_loss: 0.6244 - val_accuracy: 0.6508\n",
            "Epoch 2/50\n",
            "176/176 [==============================] - 168s 952ms/step - loss: 0.5975 - accuracy: 0.6739 - val_loss: 0.5858 - val_accuracy: 0.6908\n",
            "Epoch 3/50\n",
            "176/176 [==============================] - 166s 940ms/step - loss: 0.5765 - accuracy: 0.6949 - val_loss: 0.5715 - val_accuracy: 0.6912\n",
            "Epoch 4/50\n",
            "176/176 [==============================] - 167s 946ms/step - loss: 0.5508 - accuracy: 0.7163 - val_loss: 0.5629 - val_accuracy: 0.7084\n",
            "Epoch 5/50\n",
            "176/176 [==============================] - 166s 943ms/step - loss: 0.5340 - accuracy: 0.7310 - val_loss: 0.5292 - val_accuracy: 0.7408\n",
            "Epoch 6/50\n",
            "176/176 [==============================] - 167s 948ms/step - loss: 0.5195 - accuracy: 0.7408 - val_loss: 0.5053 - val_accuracy: 0.7604\n",
            "Epoch 7/50\n",
            "176/176 [==============================] - 170s 964ms/step - loss: 0.5130 - accuracy: 0.7454 - val_loss: 0.4960 - val_accuracy: 0.7732\n",
            "Epoch 8/50\n",
            "176/176 [==============================] - 166s 944ms/step - loss: 0.4981 - accuracy: 0.7549 - val_loss: 0.4807 - val_accuracy: 0.7680\n",
            "Epoch 9/50\n",
            "176/176 [==============================] - 166s 945ms/step - loss: 0.4888 - accuracy: 0.7626 - val_loss: 0.5270 - val_accuracy: 0.7320\n",
            "Epoch 10/50\n",
            "176/176 [==============================] - 168s 951ms/step - loss: 0.4811 - accuracy: 0.7675 - val_loss: 0.4511 - val_accuracy: 0.7924\n",
            "Epoch 11/50\n",
            "176/176 [==============================] - 168s 951ms/step - loss: 0.4744 - accuracy: 0.7731 - val_loss: 0.4354 - val_accuracy: 0.8012\n",
            "Epoch 12/50\n",
            "176/176 [==============================] - 168s 952ms/step - loss: 0.4638 - accuracy: 0.7799 - val_loss: 0.4448 - val_accuracy: 0.7936\n",
            "Epoch 13/50\n",
            "176/176 [==============================] - 168s 952ms/step - loss: 0.4493 - accuracy: 0.7886 - val_loss: 0.4331 - val_accuracy: 0.8040\n",
            "Epoch 14/50\n",
            "176/176 [==============================] - 167s 950ms/step - loss: 0.4396 - accuracy: 0.7957 - val_loss: 0.4227 - val_accuracy: 0.8108\n",
            "Epoch 15/50\n",
            "176/176 [==============================] - 167s 950ms/step - loss: 0.4427 - accuracy: 0.7914 - val_loss: 0.3978 - val_accuracy: 0.8236\n",
            "Epoch 16/50\n",
            "176/176 [==============================] - 166s 943ms/step - loss: 0.4298 - accuracy: 0.7991 - val_loss: 0.4003 - val_accuracy: 0.8240\n",
            "Epoch 17/50\n",
            "176/176 [==============================] - 165s 939ms/step - loss: 0.4266 - accuracy: 0.8004 - val_loss: 0.3944 - val_accuracy: 0.8304\n",
            "Epoch 18/50\n",
            "176/176 [==============================] - 167s 948ms/step - loss: 0.4153 - accuracy: 0.8091 - val_loss: 0.3909 - val_accuracy: 0.8188\n",
            "Epoch 19/50\n",
            "176/176 [==============================] - 167s 945ms/step - loss: 0.4087 - accuracy: 0.8131 - val_loss: 0.3829 - val_accuracy: 0.8308\n",
            "Epoch 20/50\n",
            "176/176 [==============================] - 168s 955ms/step - loss: 0.3969 - accuracy: 0.8183 - val_loss: 0.3875 - val_accuracy: 0.8196\n",
            "Epoch 21/50\n",
            "176/176 [==============================] - 167s 948ms/step - loss: 0.3916 - accuracy: 0.8210 - val_loss: 0.3560 - val_accuracy: 0.8472\n",
            "Epoch 22/50\n",
            "176/176 [==============================] - 167s 947ms/step - loss: 0.3920 - accuracy: 0.8215 - val_loss: 0.3785 - val_accuracy: 0.8376\n",
            "Epoch 23/50\n",
            "176/176 [==============================] - 167s 947ms/step - loss: 0.3855 - accuracy: 0.8252 - val_loss: 0.3553 - val_accuracy: 0.8468\n",
            "Epoch 24/50\n",
            "176/176 [==============================] - 167s 947ms/step - loss: 0.3752 - accuracy: 0.8316 - val_loss: 0.3464 - val_accuracy: 0.8496\n",
            "Epoch 25/50\n",
            "176/176 [==============================] - 166s 945ms/step - loss: 0.3751 - accuracy: 0.8340 - val_loss: 0.3451 - val_accuracy: 0.8532\n",
            "Epoch 26/50\n",
            "176/176 [==============================] - 166s 942ms/step - loss: 0.3730 - accuracy: 0.8324 - val_loss: 0.3677 - val_accuracy: 0.8348\n",
            "Epoch 27/50\n",
            "176/176 [==============================] - 166s 942ms/step - loss: 0.3666 - accuracy: 0.8381 - val_loss: 0.3336 - val_accuracy: 0.8560\n",
            "Epoch 28/50\n",
            "176/176 [==============================] - 165s 939ms/step - loss: 0.3496 - accuracy: 0.8434 - val_loss: 0.3292 - val_accuracy: 0.8524\n",
            "Epoch 29/50\n",
            "176/176 [==============================] - 166s 945ms/step - loss: 0.3509 - accuracy: 0.8431 - val_loss: 0.3257 - val_accuracy: 0.8568\n",
            "Epoch 30/50\n",
            "176/176 [==============================] - 165s 939ms/step - loss: 0.3459 - accuracy: 0.8476 - val_loss: 0.3096 - val_accuracy: 0.8656\n",
            "Epoch 31/50\n",
            "176/176 [==============================] - 169s 959ms/step - loss: 0.3377 - accuracy: 0.8517 - val_loss: 0.3380 - val_accuracy: 0.8452\n",
            "Epoch 32/50\n",
            "176/176 [==============================] - 167s 946ms/step - loss: 0.3391 - accuracy: 0.8506 - val_loss: 0.3087 - val_accuracy: 0.8720\n",
            "Epoch 33/50\n",
            "176/176 [==============================] - 166s 942ms/step - loss: 0.3357 - accuracy: 0.8513 - val_loss: 0.3121 - val_accuracy: 0.8624\n",
            "Epoch 34/50\n",
            "176/176 [==============================] - 166s 944ms/step - loss: 0.3317 - accuracy: 0.8516 - val_loss: 0.3007 - val_accuracy: 0.8712\n",
            "Epoch 35/50\n",
            "176/176 [==============================] - 165s 939ms/step - loss: 0.3276 - accuracy: 0.8583 - val_loss: 0.3034 - val_accuracy: 0.8688\n",
            "Epoch 36/50\n",
            "176/176 [==============================] - 166s 941ms/step - loss: 0.3162 - accuracy: 0.8609 - val_loss: 0.2823 - val_accuracy: 0.8788\n",
            "Epoch 37/50\n",
            "176/176 [==============================] - 166s 942ms/step - loss: 0.3172 - accuracy: 0.8623 - val_loss: 0.2786 - val_accuracy: 0.8820\n",
            "Epoch 38/50\n",
            "176/176 [==============================] - 167s 946ms/step - loss: 0.3083 - accuracy: 0.8654 - val_loss: 0.2859 - val_accuracy: 0.8740\n",
            "Epoch 39/50\n",
            "176/176 [==============================] - 177s 1s/step - loss: 0.3150 - accuracy: 0.8605 - val_loss: 0.2898 - val_accuracy: 0.8776\n",
            "Epoch 40/50\n",
            "176/176 [==============================] - 199s 1s/step - loss: 0.3067 - accuracy: 0.8661 - val_loss: 0.3010 - val_accuracy: 0.8744\n",
            "Epoch 41/50\n",
            "176/176 [==============================] - 206s 1s/step - loss: 0.3025 - accuracy: 0.8676 - val_loss: 0.2814 - val_accuracy: 0.8852\n",
            "Epoch 42/50\n",
            "176/176 [==============================] - 178s 1s/step - loss: 0.3106 - accuracy: 0.8644 - val_loss: 0.2609 - val_accuracy: 0.8904\n",
            "Epoch 43/50\n",
            "176/176 [==============================] - 168s 951ms/step - loss: 0.2970 - accuracy: 0.8736 - val_loss: 0.2724 - val_accuracy: 0.8832\n",
            "Epoch 44/50\n",
            "176/176 [==============================] - 167s 948ms/step - loss: 0.2963 - accuracy: 0.8727 - val_loss: 0.2846 - val_accuracy: 0.8748\n",
            "Epoch 45/50\n",
            "176/176 [==============================] - 167s 946ms/step - loss: 0.2906 - accuracy: 0.8749 - val_loss: 0.2685 - val_accuracy: 0.8852\n",
            "Epoch 46/50\n",
            "176/176 [==============================] - 168s 951ms/step - loss: 0.2881 - accuracy: 0.8756 - val_loss: 0.2636 - val_accuracy: 0.8884\n",
            "Epoch 47/50\n",
            "176/176 [==============================] - 167s 945ms/step - loss: 0.2820 - accuracy: 0.8780 - val_loss: 0.2639 - val_accuracy: 0.8808\n",
            "Epoch 48/50\n",
            "176/176 [==============================] - 167s 946ms/step - loss: 0.2801 - accuracy: 0.8795 - val_loss: 0.2609 - val_accuracy: 0.8920\n",
            "Epoch 49/50\n",
            "176/176 [==============================] - 167s 951ms/step - loss: 0.2808 - accuracy: 0.8815 - val_loss: 0.2561 - val_accuracy: 0.8936\n",
            "Epoch 50/50\n",
            "176/176 [==============================] - 166s 944ms/step - loss: 0.2776 - accuracy: 0.8799 - val_loss: 0.2728 - val_accuracy: 0.8832\n"
          ]
        }
      ]
    },
    {
      "cell_type": "markdown",
      "source": [
        "The Last step in our notebook is to visualize the training results so we can see how our training and validation accuracies like, This help us to know at which point our model is getting to overfit and where is the best training point that the model reached to it during training."
      ],
      "metadata": {
        "id": "g9eXGFcXRfzL"
      }
    },
    {
      "cell_type": "code",
      "source": [
        "training_accuracy = history.history['accuracy']\n",
        "validation_accuracy = history.history['val_accuracy']\n",
        "\n",
        "training_loss = history.history['loss']\n",
        "validation_loss = history.history['val_loss']\n",
        "\n",
        "epochs = range(len(training_accuracy))\n",
        "\n",
        "plt.plot(epochs, training_accuracy, 'r', \"Training Accuracy\")\n",
        "plt.plot(epochs, validation_accuracy, 'b', \"Validation Accuracy\")\n",
        "plt.title(\"Training Validation Accuracy\")\n",
        "plt.show()\n",
        "print(\"\")\n",
        "\n",
        "\n",
        "plt.plot(epochs, training_loss, 'r', \"Training Loss\")\n",
        "plt.plot(epochs, validation_loss, 'b', \"Validation Loss\")\n",
        "plt.title(\" Training Validation Loss\")\n",
        "plt.show()"
      ],
      "metadata": {
        "colab": {
          "base_uri": "https://localhost:8080/",
          "height": 562
        },
        "id": "p7C-o4vwPpp8",
        "outputId": "cac30f62-d5bf-4279-9793-3afce93d876f"
      },
      "execution_count": 20,
      "outputs": [
        {
          "output_type": "display_data",
          "data": {
            "text/plain": [
              "<Figure size 432x288 with 1 Axes>"
            ],
            "image/png": "[encoded data removed]"
          },
          "metadata": {
            "needs_background": "light"
          }
        },
        {
          "output_type": "stream",
          "name": "stdout",
          "text": [
            "\n"
          ]
        },
        {
          "output_type": "display_data",
          "data": {
            "text/plain": [
              "<Figure size 432x288 with 1 Axes>"
            ],
            "image/png": "[encoded data removed]"
          },
          "metadata": {
            "needs_background": "light"
          }
        }
      ]
    }
  ]
}