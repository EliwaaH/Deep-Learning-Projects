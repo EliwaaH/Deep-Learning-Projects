{
  "nbformat": 4,
  "nbformat_minor": 0,
  "metadata": {
    "colab": {
      "provenance": [],
      "collapsed_sections": [],
      "mount_file_id": "1PFBBIPKCVIcAVw6BK4jmH3O7hHC7DdWe",
      "authorship_tag": "ABX9TyNhd6U7yLsLwfn9B9lnTQqj",
      "include_colab_link": true
    },
    "kernelspec": {
      "name": "python3",
      "display_name": "Python 3"
    },
    "language_info": {
      "name": "python"
    },
    "accelerator": "GPU",
    "gpuClass": "standard"
  },
  "cells": [
    {
      "cell_type": "markdown",
      "metadata": {
        "id": "view-in-github",
        "colab_type": "text"
      },
      "source": [
        "<a href=\"https://colab.research.google.com/github/EliwaaH/Deep-Learning-Projects/blob/main/CNN-with-TF/DeepLearning_Projects.ipynb\" target=\"_parent\"><img src=\"https://colab.research.google.com/assets/colab-badge.svg\" alt=\"Open In Colab\"/></a>"
      ]
    },
    {
      "cell_type": "code",
      "execution_count": 1,
      "metadata": {
        "id": "iEYyhOOgHP5L"
      },
      "outputs": [],
      "source": [
        "import tensorflow as tf\n",
        "import numpy as np\n",
        "from tensorflow.keras.optimizers import RMSprop\n",
        "from keras.preprocessing.image import ImageDataGenerator\n",
        "from keras.preprocessing import image\n",
        "import matplotlib.pyplot as plt\n",
        "import matplotlib.image as mpimg\n",
        "import os"
      ]
    },
    {
      "cell_type": "code",
      "source": [
        "!wget https://storage.googleapis.com/tensorflow-1-public/course2/week3/horse-or-human.zip"
      ],
      "metadata": {
        "colab": {
          "base_uri": "https://localhost:8080/"
        },
        "id": "wMtutOGM1JZx",
        "outputId": "47a655ad-6cdc-439b-9f8b-bbcb6a448a1c"
      },
      "execution_count": 2,
      "outputs": [
        {
          "output_type": "stream",
          "name": "stdout",
          "text": [
            "--2022-09-15 02:24:11--  https://storage.googleapis.com/tensorflow-1-public/course2/week3/horse-or-human.zip\n",
            "Resolving storage.googleapis.com (storage.googleapis.com)... 173.194.202.128, 74.125.20.128, 108.177.98.128, ...\n",
            "Connecting to storage.googleapis.com (storage.googleapis.com)|173.194.202.128|:443... connected.\n",
            "HTTP request sent, awaiting response... 200 OK\n",
            "Length: 149574867 (143M) [application/zip]\n",
            "Saving to: ‘horse-or-human.zip’\n",
            "\n",
            "horse-or-human.zip  100%[===================>] 142.65M   148MB/s    in 1.0s    \n",
            "\n",
            "2022-09-15 02:24:12 (148 MB/s) - ‘horse-or-human.zip’ saved [149574867/149574867]\n",
            "\n"
          ]
        }
      ]
    },
    {
      "cell_type": "code",
      "source": [
        "!wget https://storage.googleapis.com/tensorflow-1-public/course2/week3/validation-horse-or-human.zip"
      ],
      "metadata": {
        "colab": {
          "base_uri": "https://localhost:8080/"
        },
        "id": "rHjPcCig1Qmi",
        "outputId": "8c70ac34-96ae-4bc7-8984-c9bcaa2dd7c7"
      },
      "execution_count": 3,
      "outputs": [
        {
          "output_type": "stream",
          "name": "stdout",
          "text": [
            "--2022-09-15 02:24:15--  https://storage.googleapis.com/tensorflow-1-public/course2/week3/validation-horse-or-human.zip\n",
            "Resolving storage.googleapis.com (storage.googleapis.com)... 173.194.202.128, 74.125.20.128, 108.177.98.128, ...\n",
            "Connecting to storage.googleapis.com (storage.googleapis.com)|173.194.202.128|:443... connected.\n",
            "HTTP request sent, awaiting response... 200 OK\n",
            "Length: 11480187 (11M) [application/zip]\n",
            "Saving to: ‘validation-horse-or-human.zip’\n",
            "\n",
            "\r          validatio   0%[                    ]       0  --.-KB/s               \rvalidation-horse-or 100%[===================>]  10.95M  --.-KB/s    in 0.07s   \n",
            "\n",
            "2022-09-15 02:24:15 (148 MB/s) - ‘validation-horse-or-human.zip’ saved [11480187/11480187]\n",
            "\n"
          ]
        }
      ]
    },
    {
      "cell_type": "code",
      "source": [
        "import zipfile\n",
        "\n",
        "# Unzip training set\n",
        "local_zip = './horse-or-human.zip'\n",
        "zip_ref = zipfile.ZipFile(local_zip, 'r')\n",
        "zip_ref.extractall('./horse-or-human')\n",
        "\n",
        "# Unzip validation set\n",
        "local_zip = './validation-horse-or-human.zip'\n",
        "zip_ref = zipfile.ZipFile(local_zip, 'r')\n",
        "zip_ref.extractall('./validation-horse-or-human')\n",
        "\n",
        "zip_ref.close()"
      ],
      "metadata": {
        "id": "h6S5lGy41XtI"
      },
      "execution_count": 4,
      "outputs": []
    },
    {
      "cell_type": "code",
      "source": [
        "current_direc = os.getcwd()\n",
        "train_images_dir_horse = os.path.join(\"/content/horse-or-human/horses\")\n",
        "train_images_dir_human = os.path.join(\"/content/horse-or-human/humans\")\n",
        "validation_image_dir_horse = os.path.join(\"/content/validation-horse-or-human/horses\")\n",
        "validation_image_dir_human = os.path.join(\"/content/validation-horse-or-human/humans\")\n",
        "\n",
        "print(\"the number of horse images in train\", len(os.listdir(train_images_dir_horse)))\n",
        "print(\"the number of human images in train\", len(os.listdir(train_images_dir_human)))\n",
        "\n",
        "print(\"the number of horse images in validation\", len(os.listdir(validation_image_dir_horse)))\n",
        "print(\"the number of human images in validation\", len(os.listdir(validation_image_dir_human)))"
      ],
      "metadata": {
        "colab": {
          "base_uri": "https://localhost:8080/"
        },
        "id": "Qw3n9nVy1q9X",
        "outputId": "db8a5bfc-bb03-42cf-cc56-16b9734082c5"
      },
      "execution_count": 5,
      "outputs": [
        {
          "output_type": "stream",
          "name": "stdout",
          "text": [
            "the number of horse images in train 500\n",
            "the number of human images in train 527\n",
            "the number of horse images in validation 128\n",
            "the number of human images in validation 128\n"
          ]
        }
      ]
    },
    {
      "cell_type": "code",
      "source": [
        "from keras.optimizers import Optimizer\n",
        "model = tf.keras.models.Sequential([\n",
        "    tf.keras.layers.Conv2D(16, (3,3), activation='relu', input_shape=(300,300,3)),\n",
        "    tf.keras.layers.MaxPooling2D(2,2),\n",
        "    tf.keras.layers.Conv2D(32, (3,3), activation='relu'),\n",
        "    tf.keras.layers.MaxPooling2D(2,2),\n",
        "    tf.keras.layers.Conv2D(64, (3,3), activation='relu'),\n",
        "    tf.keras.layers.MaxPooling2D(2,2),\n",
        "    tf.keras.layers.Conv2D(64, (3,3), activation='relu'),\n",
        "    tf.keras.layers.MaxPooling2D(2,2),\n",
        "    tf.keras.layers.Conv2D(64, (3,3), activation='relu'),\n",
        "    tf.keras.layers.MaxPooling2D(2,2),\n",
        "    tf.keras.layers.Flatten(),\n",
        "    tf.keras.layers.Dense(512, activation='relu'),\n",
        "    tf.keras.layers.Dense(1, activation='sigmoid')\n",
        "])\n",
        "\n",
        "model.summary()\n",
        "\n",
        "model.compile(\n",
        "    optimizer=RMSprop(learning_rate=0.001),\n",
        "    loss='binary_crossentropy',\n",
        "    metrics=['accuracy']          \n",
        "              )"
      ],
      "metadata": {
        "colab": {
          "base_uri": "https://localhost:8080/"
        },
        "id": "iP_ckbKn3zUh",
        "outputId": "cf6d50c2-9db3-463d-9785-e40c1440379d"
      },
      "execution_count": 2,
      "outputs": [
        {
          "output_type": "stream",
          "name": "stdout",
          "text": [
            "Model: \"sequential\"\n",
            "_________________________________________________________________\n",
            " Layer (type)                Output Shape              Param #   \n",
            "=================================================================\n",
            " conv2d (Conv2D)             (None, 298, 298, 16)      448       \n",
            "                                                                 \n",
            " max_pooling2d (MaxPooling2D  (None, 149, 149, 16)     0         \n",
            " )                                                               \n",
            "                                                                 \n",
            " conv2d_1 (Conv2D)           (None, 147, 147, 32)      4640      \n",
            "                                                                 \n",
            " max_pooling2d_1 (MaxPooling  (None, 73, 73, 32)       0         \n",
            " 2D)                                                             \n",
            "                                                                 \n",
            " conv2d_2 (Conv2D)           (None, 71, 71, 64)        18496     \n",
            "                                                                 \n",
            " max_pooling2d_2 (MaxPooling  (None, 35, 35, 64)       0         \n",
            " 2D)                                                             \n",
            "                                                                 \n",
            " conv2d_3 (Conv2D)           (None, 33, 33, 64)        36928     \n",
            "                                                                 \n",
            " max_pooling2d_3 (MaxPooling  (None, 16, 16, 64)       0         \n",
            " 2D)                                                             \n",
            "                                                                 \n",
            " conv2d_4 (Conv2D)           (None, 14, 14, 64)        36928     \n",
            "                                                                 \n",
            " max_pooling2d_4 (MaxPooling  (None, 7, 7, 64)         0         \n",
            " 2D)                                                             \n",
            "                                                                 \n",
            " flatten (Flatten)           (None, 3136)              0         \n",
            "                                                                 \n",
            " dense (Dense)               (None, 512)               1606144   \n",
            "                                                                 \n",
            " dense_1 (Dense)             (None, 1)                 513       \n",
            "                                                                 \n",
            "=================================================================\n",
            "Total params: 1,704,097\n",
            "Trainable params: 1,704,097\n",
            "Non-trainable params: 0\n",
            "_________________________________________________________________\n"
          ]
        }
      ]
    },
    {
      "cell_type": "code",
      "source": [
        "train_datagen=ImageDataGenerator(rescale=1/255.0)\n",
        "validation_datagen=ImageDataGenerator(rescale=1/255.0)\n",
        "\n",
        "train_generator=train_datagen.flow_from_directory(\n",
        "    \"/content/horse-or-human/\",\n",
        "    target_size=(300,300),\n",
        "    batch_size=128,\n",
        "    class_mode='binary'\n",
        ")\n",
        "\n",
        "validation_generator=validation_datagen.flow_from_directory(\n",
        "    \"/content/validation-horse-or-human/\",\n",
        "    target_size=(300,300),\n",
        "    batch_size=32,\n",
        "    class_mode='binary'\n",
        ")"
      ],
      "metadata": {
        "colab": {
          "base_uri": "https://localhost:8080/"
        },
        "id": "UXLTIoJl7HhP",
        "outputId": "fe757413-40fa-472b-e788-06a336f759ba"
      },
      "execution_count": 3,
      "outputs": [
        {
          "output_type": "stream",
          "name": "stdout",
          "text": [
            "Found 1027 images belonging to 2 classes.\n",
            "Found 256 images belonging to 2 classes.\n"
          ]
        }
      ]
    },
    {
      "cell_type": "code",
      "source": [
        "history = model.fit(\n",
        "    train_generator,\n",
        "    steps_per_epoch=8,\n",
        "    epochs=15,\n",
        "    verbose=1,\n",
        "    validation_data=validation_generator,\n",
        "    validation_steps=8\n",
        ")"
      ],
      "metadata": {
        "colab": {
          "base_uri": "https://localhost:8080/"
        },
        "id": "tyG3vVGG8fJ6",
        "outputId": "62a161de-893f-41a1-fcf7-e89ed712d681"
      },
      "execution_count": 4,
      "outputs": [
        {
          "output_type": "stream",
          "name": "stdout",
          "text": [
            "Epoch 1/15\n",
            "8/8 [==============================] - 13s 933ms/step - loss: 0.8161 - accuracy: 0.5059 - val_loss: 0.6752 - val_accuracy: 0.5000\n",
            "Epoch 2/15\n",
            "8/8 [==============================] - 7s 898ms/step - loss: 0.7335 - accuracy: 0.6096 - val_loss: 0.8664 - val_accuracy: 0.5977\n",
            "Epoch 3/15\n",
            "8/8 [==============================] - 7s 897ms/step - loss: 0.4138 - accuracy: 0.7998 - val_loss: 0.6828 - val_accuracy: 0.8359\n",
            "Epoch 4/15\n",
            "8/8 [==============================] - 7s 884ms/step - loss: 0.4944 - accuracy: 0.8476 - val_loss: 2.1694 - val_accuracy: 0.6484\n",
            "Epoch 5/15\n",
            "8/8 [==============================] - 7s 908ms/step - loss: 0.2484 - accuracy: 0.8966 - val_loss: 2.9369 - val_accuracy: 0.6758\n",
            "Epoch 6/15\n",
            "8/8 [==============================] - 7s 898ms/step - loss: 0.2433 - accuracy: 0.9132 - val_loss: 3.2530 - val_accuracy: 0.5977\n",
            "Epoch 7/15\n",
            "8/8 [==============================] - 7s 887ms/step - loss: 0.3080 - accuracy: 0.8943 - val_loss: 2.7364 - val_accuracy: 0.7500\n",
            "Epoch 8/15\n",
            "8/8 [==============================] - 7s 1s/step - loss: 0.2401 - accuracy: 0.9221 - val_loss: 1.0519 - val_accuracy: 0.8359\n",
            "Epoch 9/15\n",
            "8/8 [==============================] - 7s 893ms/step - loss: 0.1113 - accuracy: 0.9555 - val_loss: 12.7816 - val_accuracy: 0.5703\n",
            "Epoch 10/15\n",
            "8/8 [==============================] - 7s 891ms/step - loss: 0.7111 - accuracy: 0.8543 - val_loss: 2.2566 - val_accuracy: 0.7695\n",
            "Epoch 11/15\n",
            "8/8 [==============================] - 7s 892ms/step - loss: 0.0795 - accuracy: 0.9700 - val_loss: 1.4692 - val_accuracy: 0.8203\n",
            "Epoch 12/15\n",
            "8/8 [==============================] - 7s 914ms/step - loss: 0.0460 - accuracy: 0.9900 - val_loss: 1.8210 - val_accuracy: 0.8203\n",
            "Epoch 13/15\n",
            "8/8 [==============================] - 7s 893ms/step - loss: 0.0915 - accuracy: 0.9689 - val_loss: 8.8257 - val_accuracy: 0.5938\n",
            "Epoch 14/15\n",
            "8/8 [==============================] - 7s 891ms/step - loss: 0.2313 - accuracy: 0.9177 - val_loss: 1.9438 - val_accuracy: 0.8125\n",
            "Epoch 15/15\n",
            "8/8 [==============================] - 7s 895ms/step - loss: 0.0591 - accuracy: 0.9778 - val_loss: 1.5172 - val_accuracy: 0.8477\n"
          ]
        }
      ]
    },
    {
      "cell_type": "code",
      "source": [
        "images = os.listdir(os.path.join(\"/content/test_images\"))\n",
        "\n",
        "for i in images:\n",
        "  path=\"/content/test_images/\" + i\n",
        "  img = image.load_img(path, target_size=(300,300))\n",
        "  x = image.img_to_array(img)\n",
        "  x /= 255.0\n",
        "  x = np.expand_dims(x, axis=0)\n",
        "  \n",
        "  images = np.vstack([x])\n",
        "  classes = model.predict(images, batch_size=10)\n",
        "  if classes[0] > 0.5:\n",
        "    print(i + \"is human\")\n",
        "  else:\n",
        "    print(i + \"is horse\")"
      ],
      "metadata": {
        "colab": {
          "base_uri": "https://localhost:8080/"
        },
        "id": "blr-18aT_xWC",
        "outputId": "1b100344-086e-4601-d902-ed368c73b387"
      },
      "execution_count": 6,
      "outputs": [
        {
          "output_type": "stream",
          "name": "stdout",
          "text": [
            "horse-1.jpgis horse\n",
            "horse-2.jpgis horse\n",
            "person-2.jpgis human\n",
            "person-1.jpgis human\n"
          ]
        }
      ]
    }
  ]
}